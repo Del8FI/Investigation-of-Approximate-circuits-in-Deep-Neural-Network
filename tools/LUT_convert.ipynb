{
 "cells": [
  {
   "cell_type": "markdown",
   "id": "cd6c5d2a",
   "metadata": {},
   "source": [
    "## LUT conversion Tool \n",
    "\n",
    "Converting an approximate multiplier function into a pre-computed C header file\n",
    "\n",
    " * An example toolflow is presented of importing an axx_mult from EvoApprox library (Step 1a) but any user-defined axx_mult can be used (Step 1b)\n",
    " * Start from \"Step 1a\" or \"Step 1b\" depending on your case\n",
    " \n",
    " * **Important** : Only 8bit singed multipliers are supported at the moment. So the output header file must be a 256x256 C-array"
   ]
  },
  {
   "cell_type": "markdown",
   "id": "3b244c09",
   "metadata": {},
   "source": [
    "## Step 1a (case for EvoApprox multiplier)\n",
    "\n",
    "Select an axx_mult from EvoApprox library and run the provided script from EvoApprox (python pyx method)"
   ]
  },
  {
   "cell_type": "code",
   "execution_count": 84,
   "id": "f31c94be",
   "metadata": {},
   "outputs": [],
   "source": [
    "use_evo = True\n",
    "! curl -s \"https://ehw.fit.vutbr.cz/evoapproxlib/v1.1?folder=multiplers/8x8_signed/pareto_pwr_mae&file=mul8s_1KV8.c&pyx=bash\" | bash\n",
    "#Finally, the extension can be used in a Python script as follows\n",
    "import pyximport; pyximport.install()\n",
    "import mul8s_1KV8\n",
    "\n",
    "def u2s(v): # 16b unsigned to 16b signed\n",
    "    if v & 32768:\n",
    "        return v - 65536\n",
    "    return v"
   ]
  },
  {
   "cell_type": "markdown",
   "id": "01fc8d96",
   "metadata": {},
   "source": [
    "## Step 1b (case for user-defined multiplier)\n",
    "\n",
    "Create a class for your custom multiplier. The function 'mult' inside can be user-defined\n"
   ]
  },
  {
   "cell_type": "code",
   "execution_count": 63,
   "id": "271b0f6c",
   "metadata": {},
   "outputs": [],
   "source": [
    "# Step 1b (case for user-defined multiplier)\n",
    "use_evo = False\n",
    "# Create a class for your custom multiplier.\n",
    "class my_accurate_mult(object):\n",
    "    def mul(self, a, b):\n",
    "        # Ensure a and b are 8-bit integers\n",
    "        a &= 0xFF\n",
    "        b &= 0xFF\n",
    "        \n",
    "        # Extract the 2-bit segments of b\n",
    "        b7_6 = (b >> 6) & 0x3  # b[7:6]\n",
    "        b5_4 = (b >> 4) & 0x3  # b[5:4]\n",
    "        b3_2 = (b >> 2) & 0x3  # b[3:2]\n",
    "        \n",
    "        # Calculate partial products\n",
    "        mul1 = b7_6 * a\n",
    "        mul2 = b5_4 * a\n",
    "        mul3 = b3_2 * a\n",
    "        \n",
    "        # Create intermediate results with appropriate shifting and zero padding\n",
    "        mid_result1 = mul1 << 6\n",
    "        mid_result2 = mul2 << 4\n",
    "        mid_result3 = mul3 << 2\n",
    "        \n",
    "        # Compute the final result by adding the intermediate results\n",
    "        result = mid_result1 + mid_result2 + mid_result3\n",
    "        \n",
    "        # Ensure the result is a 16-bit integer\n",
    "        return result & 0xFFFF"
   ]
  },
  {
   "cell_type": "markdown",
   "id": "f63bc7ff",
   "metadata": {},
   "source": [
    "## Step 2\n",
    "\n",
    "Select the current multiplier\n"
   ]
  },
  {
   "cell_type": "code",
   "execution_count": 64,
   "id": "de6f4a37",
   "metadata": {},
   "outputs": [],
   "source": [
    "if use_evo:\n",
    "    # for EvoApprox multiplier\n",
    "    axx_mult = mul8s_1KV8# change name appropriately\n",
    "else:\n",
    "    # for user-defined multiplier\n",
    "    axx_mult = my_accurate_mult()"
   ]
  },
  {
   "cell_type": "markdown",
   "id": "498b9cdf",
   "metadata": {},
   "source": [
    "## Step 3\n",
    "\n",
    "### unsigned to signed conversion for user-defined multiplier\n",
    "\n",
    "If the user-defined multiplier outputs unsigned numbers you need to set the following flag to 'True' to convert to signed, otherwise set to 'False'. \n",
    "\n",
    "Leave the flag also to 'True' for the case of EvoApprox multiplier\n",
    "\n",
    "**Important** The function is used for 8-bit multipliers - no support for other arithmetic at the moment\n"
   ]
  },
  {
   "cell_type": "code",
   "execution_count": 65,
   "id": "9df25c1e",
   "metadata": {},
   "outputs": [],
   "source": [
    "use_signed_conversion = False"
   ]
  },
  {
   "cell_type": "code",
   "execution_count": 66,
   "id": "2fcff831",
   "metadata": {},
   "outputs": [],
   "source": [
    "###### DO NOT CHANGE ######\n",
    "\n",
    "nbits = 8\n",
    "\n",
    "if use_signed_conversion:\n",
    "    #for the case of signed conversion\n",
    "    def u2s(v): # 16b unsigned to 16b signed\n",
    "        if v & 32768:\n",
    "            return v - 65536\n",
    "        return v\n",
    "else:  \n",
    "    #for the case of no conversion\n",
    "    def u2s(v): \n",
    "        return v"
   ]
  },
  {
   "cell_type": "markdown",
   "id": "7a06373b",
   "metadata": {},
   "source": [
    "## Step 4\n",
    "\n",
    "Set the name of the header file to write on disk\n"
   ]
  },
  {
   "cell_type": "code",
   "execution_count": 67,
   "id": "f05138f2",
   "metadata": {},
   "outputs": [],
   "source": [
    "mult_name = 'bamt_mul2u'"
   ]
  },
  {
   "cell_type": "markdown",
   "id": "34addb5f",
   "metadata": {},
   "source": [
    "## Step 5\n",
    "\n",
    "Write the header file to disk\n",
    "\n",
    "This script will write the C header file (*.h) to current folder path\n",
    "\n",
    "You can then move it to 'adapt/cpu-kernels/axx_mults' and use its file name as the arguement to adapt layers"
   ]
  },
  {
   "cell_type": "code",
   "execution_count": 68,
   "id": "6291a14d",
   "metadata": {},
   "outputs": [],
   "source": [
    "with open(mult_name + '.h', 'w') as filehandle: \n",
    "    bits = int(pow(2,nbits))\n",
    "    lut_size_str = str(bits)\n",
    "\n",
    "    filehandle.write('#include <stdint.h>\\n\\n')\n",
    "    filehandle.write('const int' + str(2*nbits) + '_t lut [' + lut_size_str + '][' + lut_size_str +'] = {')       \n",
    "    \n",
    "    for i in range (0,bits//2):\n",
    "        filehandle.write('{')\n",
    "        for j in range (0,bits//2):\n",
    "            x = u2s(axx_mult.mul(i,j))\n",
    "            filehandle.write('%s' % x)\n",
    "            filehandle.write(', ')  \n",
    "        for j in range (bits//2,bits):\n",
    "            x = u2s(axx_mult.mul(i,(bits-j)*-1))\n",
    "            filehandle.write('%s' % x)\n",
    "            if j!=bits-1:\n",
    "                filehandle.write(', ') \n",
    "        filehandle.write('},')  \n",
    "        filehandle.write('\\n')\n",
    "        \n",
    "    for i in range (bits//2,bits):\n",
    "        filehandle.write('{')\n",
    "        for j in range (0,bits//2):\n",
    "            x = u2s(axx_mult.mul((bits-i)*-1,j))        \n",
    "            filehandle.write('%s' % x)\n",
    "            filehandle.write(', ')  \n",
    "        for j in range (bits//2,bits):\n",
    "            x = u2s(axx_mult.mul((bits-i),(bits-j)))\n",
    "            filehandle.write('%s' % x)\n",
    "            if j!=bits-1:\n",
    "                filehandle.write(', ')\n",
    "        if(i!=bits-1):        \n",
    "            filehandle.write('},')\n",
    "            filehandle.write('\\n')\n",
    "    filehandle.write('}};\\n')        "
   ]
  },
  {
   "cell_type": "code",
   "execution_count": null,
   "id": "04e7f575",
   "metadata": {},
   "outputs": [],
   "source": []
  }
 ],
 "metadata": {
  "kernelspec": {
   "display_name": "Python 3 (ipykernel)",
   "language": "python",
   "name": "python3"
  },
  "language_info": {
   "codemirror_mode": {
    "name": "ipython",
    "version": 3
   },
   "file_extension": ".py",
   "mimetype": "text/x-python",
   "name": "python",
   "nbconvert_exporter": "python",
   "pygments_lexer": "ipython3",
   "version": "3.8.10"
  }
 },
 "nbformat": 4,
 "nbformat_minor": 5
}
